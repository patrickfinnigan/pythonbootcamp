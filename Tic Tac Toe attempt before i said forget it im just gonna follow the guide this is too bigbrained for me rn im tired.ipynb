{
 "cells": [
  {
   "cell_type": "code",
   "execution_count": 27,
   "metadata": {},
   "outputs": [],
   "source": [
    "def display_board(board):\n",
    "    print(board[0:3])\n",
    "    print(board[3:6])\n",
    "    print(board[6:9])"
   ]
  },
  {
   "cell_type": "code",
   "execution_count": 28,
   "metadata": {},
   "outputs": [],
   "source": [
    "game_board = [' ',' ',' ',' ',' ',' ',' ',' ',' ']"
   ]
  },
  {
   "cell_type": "code",
   "execution_count": 29,
   "metadata": {},
   "outputs": [
    {
     "name": "stdout",
     "output_type": "stream",
     "text": [
      "[' ', ' ', ' ']\n",
      "[' ', ' ', ' ']\n",
      "[' ', ' ', ' ']\n"
     ]
    }
   ],
   "source": [
    "display_board(game_board)"
   ]
  },
  {
   "cell_type": "code",
   "execution_count": 5,
   "metadata": {},
   "outputs": [],
   "source": [
    "def player_input():\n",
    "    \n",
    "    choice = 'N/A'\n",
    "    \n",
    "    while choice != 'Yes' and choice != 'No':\n",
    "        \n",
    "        choice = input('Would you like to play? Type \"Yes\" or \"No\": ') \n",
    "        \n",
    "        if choice == 'Yes':\n",
    "            print('this should work i hope')\n",
    "        elif choice == 'No':\n",
    "            print('if this doesnt work im in trouble')\n",
    "        else:\n",
    "            print('quit foolin around and put in either \"Yes\" or \"No\"!')\n",
    "    \n",
    "    return(choice)"
   ]
  },
  {
   "cell_type": "code",
   "execution_count": 6,
   "metadata": {},
   "outputs": [
    {
     "name": "stdout",
     "output_type": "stream",
     "text": [
      "Would you like to play? Type \"Yes\" or \"No\": huh\n",
      "quit foolin around and put in either \"Yes\" or \"No\"!\n",
      "Would you like to play? Type \"Yes\" or \"No\": Yes\n",
      "this should work i hope\n"
     ]
    },
    {
     "data": {
      "text/plain": [
       "'Yes'"
      ]
     },
     "execution_count": 6,
     "metadata": {},
     "output_type": "execute_result"
    }
   ],
   "source": [
    "player_input()"
   ]
  },
  {
   "cell_type": "code",
   "execution_count": 32,
   "metadata": {},
   "outputs": [],
   "source": [
    "def place_marker(board, marker, position):\n",
    "    \n",
    "#     marker = 'X'\n",
    "    input_range = range(1,10)\n",
    "    position = 0\n",
    "    \n",
    "    while position not in input_range:\n",
    "    \n",
    "        position = int(input('Chose your space to input, pick 1-9 '))\n",
    "        \n",
    "        if position in input_range:\n",
    "            print(f'your choice is {position}')\n",
    "            space_to_mark = position - 1\n",
    "            board[space_to_mark] = marker\n",
    "        elif position not in input_range or position.isdigit == False:\n",
    "            print('that wont work')\n",
    "    \n",
    "    return(position, space_to_mark)"
   ]
  },
  {
   "cell_type": "code",
   "execution_count": 36,
   "metadata": {},
   "outputs": [
    {
     "name": "stdout",
     "output_type": "stream",
     "text": [
      "Chose your space to input, pick 1-9 9\n",
      "your choice is 9\n"
     ]
    },
    {
     "data": {
      "text/plain": [
       "(9, 8)"
      ]
     },
     "execution_count": 36,
     "metadata": {},
     "output_type": "execute_result"
    }
   ],
   "source": [
    "place_marker(game_board,'X',\"0\")"
   ]
  },
  {
   "cell_type": "code",
   "execution_count": 37,
   "metadata": {},
   "outputs": [
    {
     "name": "stdout",
     "output_type": "stream",
     "text": [
      "[' ', ' ', ' ']\n",
      "[' ', ' ', ' ']\n",
      "['X', 'X', 'X']\n"
     ]
    }
   ],
   "source": [
    "display_board(game_board)"
   ]
  },
  {
   "cell_type": "code",
   "execution_count": 42,
   "metadata": {},
   "outputs": [],
   "source": [
    "def win_check(board, mark):\n",
    "    \n",
    "    winner = 'N/A'\n",
    "    mark = 'N/A'\n",
    "    \n",
    "    while winner != 'X' or 'O':\n",
    "        \n",
    "        if board[7] == board[8] == board[9] == mark:\n",
    "            print(f'{mark} is the winner')\n",
    "            winner = mark\n",
    "        else:\n",
    "            print(\"keep playing\")\n",
    "            \n",
    "    return(board)"
   ]
  },
  {
   "cell_type": "code",
   "execution_count": 43,
   "metadata": {},
   "outputs": [
    {
     "ename": "SyntaxError",
     "evalue": "invalid syntax (<ipython-input-43-5218de8fa30e>, line 1)",
     "output_type": "error",
     "traceback": [
      "\u001b[1;36m  File \u001b[1;32m\"<ipython-input-43-5218de8fa30e>\"\u001b[1;36m, line \u001b[1;32m1\u001b[0m\n\u001b[1;33m    def win_check(game_board,'X')\u001b[0m\n\u001b[1;37m                               ^\u001b[0m\n\u001b[1;31mSyntaxError\u001b[0m\u001b[1;31m:\u001b[0m invalid syntax\n"
     ]
    }
   ],
   "source": [
    "def win_check(game_board,'X')"
   ]
  },
  {
   "cell_type": "code",
   "execution_count": null,
   "metadata": {},
   "outputs": [],
   "source": []
  }
 ],
 "metadata": {
  "kernelspec": {
   "display_name": "Python 3",
   "language": "python",
   "name": "python3"
  },
  "language_info": {
   "codemirror_mode": {
    "name": "ipython",
    "version": 3
   },
   "file_extension": ".py",
   "mimetype": "text/x-python",
   "name": "python",
   "nbconvert_exporter": "python",
   "pygments_lexer": "ipython3",
   "version": "3.7.1"
  }
 },
 "nbformat": 4,
 "nbformat_minor": 2
}
